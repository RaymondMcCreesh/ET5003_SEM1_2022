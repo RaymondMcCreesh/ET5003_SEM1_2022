{
 "cells": [
  {
   "cell_type": "markdown",
   "id": "ff8109bb",
   "metadata": {},
   "source": [
    "# Building Bayesian Networks\n",
    "\n",
    "by Emil Vassev\n",
    "<br>\n",
    "March 7th, 2022\n",
    "\n",
    "In this notebook, you can follow an example of creating a Bayesian Network, by using the <b>pgmpy</b> Python library. The example tackled by this notebook is the <i>Bayesian Network for Computer Failure</i>, which we covered in detail in our lectures."
   ]
  },
  {
   "cell_type": "markdown",
   "id": "fdd2e179",
   "metadata": {},
   "source": [
    "Bayesian Network is composed of two components:\n",
    "<ol>\n",
    "<li>a directed acyclic graph DAG: 𝓖(𝑉,𝐸)  - nodes  𝑉, and edges 𝐸</li>\n",
    "<ul>\n",
    "<li>a set of random variables represented by nodes</li>\n",
    "<li>directed edges – connect two random variables with causal probabilistic dependency</li>\n",
    "<li>cycles not allowed in the graph</li>\n",
    "</ul>\n",
    "<li>a set of conditional probability distributions</li>\n",
    "<ul>\n",
    "<li>conditional probability distribution is defined for each node in the graph</li>\n",
    "<li>the conditional probability distribution of a node (random variable) is defined for every possible outcome of the preceding causal node(s)</li>\n",
    "</ul>"
   ]
  },
  {
   "cell_type": "markdown",
   "id": "563217fe",
   "metadata": {},
   "source": [
    "## Step 1: Create the DAG of the Bayesian Network"
   ]
  },
  {
   "cell_type": "markdown",
   "id": "7ea892c2",
   "metadata": {},
   "source": [
    "### Step 1.1. Describe the problem\n",
    "<ul>\n",
    "<li>a computer does not start, which is considered as a <b>computer failure</b> (observation/evidence)</li>\n",
    "<li>possible <i>independent</i> causes of failure:</li>\n",
    "<ol>\n",
    "<li><b>electricity failure</b></li> \n",
    "<li><b>computer malfunction</b></li>\n",
    "</ol><br>\n",
    "<li><b>electricity failure</b> and <b>computer malfunction</b> are ancestors/parents of <b>computer failure</b></li>\n",
    "<li>inference objectives:</li>\n",
    "<ol>    \n",
    "<li>calculate the posterior conditional probability distribution of each of the possible unobserved causes given the observed evidence of a <b>computer failure</b></li>\n",
    "<li>calculate the prior conditional probability distribution of having a <b>computer failure</b> without any evidence</li>\n",
    "<li>calculate the prior conditional probability distribution of having a <b>computer failure</b> considering a recent <b>electricity failure</b> as evidence</li>\n",
    "</ol>\n",
    "</ul>"
   ]
  },
  {
   "cell_type": "markdown",
   "id": "38bdd4fb",
   "metadata": {},
   "source": [
    "### Step 1.2. Draw and show the DAG\n",
    "Let's show the DAG model from the lectures."
   ]
  },
  {
   "cell_type": "code",
   "execution_count": 1,
   "id": "ebde9710",
   "metadata": {
    "scrolled": true
   },
   "outputs": [
    {
     "data": {
      "image/png": "[encoded data removed]",
      "text/plain": [
       "<IPython.core.display.Image object>"
      ]
     },
     "execution_count": 1,
     "metadata": {},
     "output_type": "execute_result"
    }
   ],
   "source": [
    "from IPython.display import Image\n",
    "\n",
    "Image(\"images/computer_failure.png\")"
   ]
  },
  {
   "cell_type": "markdown",
   "id": "297fa08d",
   "metadata": {},
   "source": [
    "### Step 1.3. Create the DAG of the Bayesian Network by using the pgmpy library\n",
    "Let's create the Computer Failure Bayesian Network following the DAG shown above. We use the pgmpy library for this task.\n",
    "<br>\n",
    "Here, we consider three nodes, each representing a binary random variable:\n",
    "<ol>\n",
    "<li><b>electricity_failure</b>: domain = {yes, no}</li> \n",
    "<li><b>computer_malfunction</b>: domain = {yes, no}</li>\n",
    "<li><b>computer_failure</b>: domain = {yes, no}</li>\n",
    "</ol>\n",
    "\n",
    "Additional constraints: <b>electricity_failure</b> ⊥ <b>computer_malfunction</b> (independent) \n",
    "<br><br>\n",
    "To build the Bayesian Network DAG we use the BayesianNetwork class provided by the pgmpy library."
   ]
  },
  {
   "cell_type": "code",
   "execution_count": 2,
   "id": "aae508e7",
   "metadata": {},
   "outputs": [],
   "source": [
    "from pgmpy.models import BayesianNetwork\n",
    "from pgmpy.factors.discrete import TabularCPD\n",
    "import networkx as nx\n",
    "import pylab as plt\n",
    " \n",
    "#**** define the Bayesian DAG structure\n",
    "#\n",
    "# we define the Bayesian structure by connecting nodes (random variables)\n",
    "# the direction is determined from the order of the nodes\n",
    "#\n",
    "# here, electricity_failure, computer_malfunction, and computer_failure are random variables\n",
    "\n",
    "model = BayesianNetwork([('electricity_failure', 'computer_failure'), ('computer_malfunction', 'computer_failure')]) "
   ]
  },
  {
   "cell_type": "markdown",
   "id": "eae7c0ed",
   "metadata": {},
   "source": [
    "### Step 1.4. Show the DAG of the Bayesian Network\n",
    "We draw the model created in the previous step."
   ]
  },
  {
   "cell_type": "code",
   "execution_count": 3,
   "id": "434e66e8",
   "metadata": {},
   "outputs": [
    {
     "data": {
      "image/png": "[encoded data removed]",
      "text/plain": [
       "<Figure size 432x288 with 1 Axes>"
      ]
     },
     "metadata": {},
     "output_type": "display_data"
    }
   ],
   "source": [
    "nx.draw(model, with_labels=True)\n",
    "plt.show()\n",
    "plt.close()"
   ]
  },
  {
   "cell_type": "markdown",
   "id": "b5520435",
   "metadata": {},
   "source": [
    "## Step 2: Create the Conditional Probability Distributions of the Bayesian Network\n",
    "\n",
    "In this step, we build the distribution models per a random variable. We use our believes and logic to come up with these models. Let's say this is our priori knowledge.\n",
    "\n",
    "### Step 2.1: Build the probability distribution tables with TabularCPD\n",
    "In this exercise we are going to use the models provided in the lectures:\n",
    "\n",
    "<ul>\n",
    "<li>P (electricity_failure=yes) = 0.1; P (electricity_failure=no) = 0.9</li>\n",
    "<li>P (computer_malfunction=yes) = 0.2; P (computer_malfunction=no) = 0.8</li>\n",
    "<li>P (computer_failure=yes | electricity_failure=no ∩ computer_malfunction=no) = 0</li>\n",
    "<li>P (computer_failure=yes | electricity_failure=no ∩ computer_malfunction=yes) = 0.5</li> \n",
    "<li>P (computer_failure=yes | electricity_failure=yes ∩ computer_malfunction=no) = 1</li>\n",
    "<li>P (computer_failure=yes | electricity_failure=yes ∩ computer_malfunction=yes) = 1</li>\n",
    "</ul>\n",
    "\n",
    "We use the TabularCPD class provided by the pgmpy library to build the distribution model of each random variable."
   ]
  },
  {
   "cell_type": "code",
   "execution_count": 4,
   "id": "b099ab9a",
   "metadata": {},
   "outputs": [],
   "source": [
    "#**** define the Conditional Probability Distributions (CPDs)\n",
    "\n",
    "# define CPD for electricity_failure\n",
    "#\n",
    "# the TabularCPD class associates the ditribution model to be constructed with a random variable, \n",
    "# e.g., electricity_failure  \n",
    "cpd_electricity_failure = TabularCPD (\n",
    "    # associate the distribution table with a random variable - must be included in the Bayesian model\n",
    "    variable=\"electricity_failure\",\n",
    "\n",
    "    # define the cardinality of the variable domain, i.e., binary = 2 -> domain = {yes, no} \n",
    "    variable_card=2,\n",
    "    \n",
    "    # define the distribution table \n",
    "    # values are ordered following the domain {yes, no}\n",
    "    # e.g., P (electricity_failure=yes) = 0.1; P (electricity_failure=no) = 0.9 \n",
    "    values=[[0.1], [0.9]] \n",
    ")    \n",
    "\n",
    "# define CPD for computer_malfunction\n",
    "cpd_computer_malfunction = TabularCPD (\n",
    "    variable=\"computer_malfunction\",\n",
    "    variable_card=2,\n",
    "    values=[[0.2], [0.8]]\n",
    ")    \n",
    "\n",
    "# define CPD for computer_failure\n",
    "cpd_computer_failure = TabularCPD (\n",
    "    variable=\"computer_failure\",\n",
    "    variable_card=2,\n",
    "\n",
    "    # define the distribution table \n",
    "    # \n",
    "    # this distrbution table includes values for all the combinations of the values \n",
    "    # held by the variables that condition this variable\n",
    "    #\n",
    "    # electricity_failure = A, computer_malfunction = B, computer_failure = C\n",
    "    # C=yes = {[A=yes,B=yes],[A=yes,B=no],[A=no,B=yes],[A=no,B=no]} = {1, 1, 0.5, 0} \n",
    "    # C=no = {[A=yes,B=yes],[A=yes,B=no],[A=no,B=yes],[A=no,B=no]} = {0, 0, 0.5, 1]}\n",
    "    # C=yes + C=no = 1 \n",
    "    #    \n",
    "    values=[[1, 1, 0.5, 0],[0, 0, 0.5, 1]],\n",
    "\n",
    "    # define the evidences - one of the causes must be true \n",
    "    evidence=[\"electricity_failure\", \"computer_malfunction\"],\n",
    "    evidence_card=[2,2]\n",
    ") \n",
    " \n"
   ]
  },
  {
   "cell_type": "markdown",
   "id": "01d46275",
   "metadata": {},
   "source": [
    "### Step 2.2: Associate the distribution models with the network structure"
   ]
  },
  {
   "cell_type": "code",
   "execution_count": 5,
   "id": "c21cdf57",
   "metadata": {},
   "outputs": [],
   "source": [
    "# we associate the distribution models with the network structure, i.e., with the random variables\n",
    "model.add_cpds(cpd_electricity_failure, cpd_computer_malfunction, cpd_computer_failure)"
   ]
  },
  {
   "cell_type": "markdown",
   "id": "472f5699",
   "metadata": {},
   "source": [
    "### Step 2.3: Check the model\n",
    "We use the built-in mechanism (the check_model() method) of the BayesianNetwork class to check the distribution models. The following checks are performed:\n",
    "<ol>\n",
    "<li>consistency in terms of domain cardinality vs. number of values</li>\n",
    "<li>Gaussian distribution for values of the same series, e.g., P(no) + P(yes) = 1</li>\n",
    "</ol>"
   ]
  },
  {
   "cell_type": "code",
   "execution_count": 6,
   "id": "3fde417d",
   "metadata": {},
   "outputs": [
    {
     "data": {
      "text/plain": [
       "True"
      ]
     },
     "execution_count": 6,
     "metadata": {},
     "output_type": "execute_result"
    }
   ],
   "source": [
    "model.check_model()"
   ]
  },
  {
   "cell_type": "markdown",
   "id": "2ea07f78",
   "metadata": {},
   "source": [
    "## Step 3: Inference with the Bayesian Network\n",
    "In this step, we use the inference mechanisms of the Bayesian Network to: \n",
    "<ol>    \n",
    "<li>calculate the prior conditional probability distribution of having a <b>computer failure</b> without any evidence</li>\n",
    "<li>calculate the prior conditional probability distribution of having a <b>computer failure</b> considering a recent <b>electricity failure</b> as an evidence</li>\n",
    "<li>calculate the posterior conditional probability distribution of each of the possible unobserved causes given the observed evidence of a <b>computer failure</b></li>\n",
    "</ol>\n",
    "To run inference tasks on this network, we use the VariableElimination class provided by the pgmpy.inference iibrary."
   ]
  },
  {
   "cell_type": "code",
   "execution_count": 7,
   "id": "2865f29b",
   "metadata": {},
   "outputs": [],
   "source": [
    "from pgmpy.inference import VariableElimination\n",
    " \n",
    "infer = VariableElimination(model)"
   ]
  },
  {
   "cell_type": "markdown",
   "id": "33c082d9",
   "metadata": {},
   "source": [
    "### Step 3.1: Infer Posterior Probability of having electricity failure\n",
    "\n",
    "Recall that we use the Bayes' Theorem to calculate posterior probability. \n",
    "\n",
    "<pre>\n",
    "\n",
    "                            P(Evidence|Cause) * P(Cause)\n",
    "   P(Cause|Evidence) = ---------------------------------------\n",
    "\t\t                         P(Evidence) \n",
    "                                 \n",
    "</pre>\n",
    "<br>\n",
    "Please, refer to lectures on how we infer posterior probability."
   ]
  },
  {
   "cell_type": "code",
   "execution_count": 8,
   "id": "46a01eb0",
   "metadata": {
    "scrolled": true
   },
   "outputs": [
    {
     "data": {
      "application/vnd.jupyter.widget-view+json": {
       "model_id": "c811b89ba6404fdeaba429bedc4ec301",
       "version_major": 2,
       "version_minor": 0
      },
      "text/plain": [
       "  0%|          | 0/1 [00:00<?, ?it/s]"
      ]
     },
     "metadata": {},
     "output_type": "display_data"
    },
    {
     "data": {
      "application/vnd.jupyter.widget-view+json": {
       "model_id": "94b9e8a86e624ff5880fed8aa0a1a466",
       "version_major": 2,
       "version_minor": 0
      },
      "text/plain": [
       "  0%|          | 0/1 [00:00<?, ?it/s]"
      ]
     },
     "metadata": {},
     "output_type": "display_data"
    }
   ],
   "source": [
    "#**** infer posterior probability\n",
    "# evidence={'computer_failure': 0} means computer_failure = yes\n",
    "#\n",
    "posterior_p = infer.query(['electricity_failure'], evidence={'computer_failure': 0})"
   ]
  },
  {
   "cell_type": "markdown",
   "id": "f9109f67",
   "metadata": {},
   "source": [
    "Show the posterior probability results."
   ]
  },
  {
   "cell_type": "code",
   "execution_count": 9,
   "id": "ba084d91",
   "metadata": {},
   "outputs": [
    {
     "name": "stdout",
     "output_type": "stream",
     "text": [
      "+------------------------+----------------------------+\n",
      "| electricity_failure    |   phi(electricity_failure) |\n",
      "+========================+============================+\n",
      "| electricity_failure(0) |                     0.5263 |\n",
      "+------------------------+----------------------------+\n",
      "| electricity_failure(1) |                     0.4737 |\n",
      "+------------------------+----------------------------+\n"
     ]
    }
   ],
   "source": [
    "print(posterior_p)"
   ]
  },
  {
   "cell_type": "markdown",
   "id": "23d42e3c",
   "metadata": {},
   "source": [
    "### Step 3.2: Infer Prior Probability of having computer failure with no evidence\n",
    "Recall that we use the following formula to infer prior probability.\n",
    "<pre>\n",
    "𝑷(𝒄𝟏)=∑(𝒂∈𝑨)∑(𝒃∈𝑩) 〖𝑷(𝑨=𝒂∩𝑩=𝒃∩𝑪=𝒄𝟏)〗\n",
    "</pre>\n",
    "Please, refer to lectures on how we infer posterior probability."
   ]
  },
  {
   "cell_type": "code",
   "execution_count": 10,
   "id": "d6dd7a7a",
   "metadata": {},
   "outputs": [
    {
     "data": {
      "application/vnd.jupyter.widget-view+json": {
       "model_id": "58d7e12ba2184b2bbcf6f209ceb5d95c",
       "version_major": 2,
       "version_minor": 0
      },
      "text/plain": [
       "  0%|          | 0/2 [00:00<?, ?it/s]"
      ]
     },
     "metadata": {},
     "output_type": "display_data"
    },
    {
     "data": {
      "application/vnd.jupyter.widget-view+json": {
       "model_id": "ef5b6b987059470dbf518324378f9ecc",
       "version_major": 2,
       "version_minor": 0
      },
      "text/plain": [
       "  0%|          | 0/2 [00:00<?, ?it/s]"
      ]
     },
     "metadata": {},
     "output_type": "display_data"
    }
   ],
   "source": [
    "prior_p = infer.query(['computer_failure'], evidence={})"
   ]
  },
  {
   "cell_type": "markdown",
   "id": "e1c01b0b",
   "metadata": {},
   "source": [
    "Show the prior probability results."
   ]
  },
  {
   "cell_type": "code",
   "execution_count": 11,
   "id": "4f9315ce",
   "metadata": {},
   "outputs": [
    {
     "name": "stdout",
     "output_type": "stream",
     "text": [
      "+---------------------+-------------------------+\n",
      "| computer_failure    |   phi(computer_failure) |\n",
      "+=====================+=========================+\n",
      "| computer_failure(0) |                  0.1900 |\n",
      "+---------------------+-------------------------+\n",
      "| computer_failure(1) |                  0.8100 |\n",
      "+---------------------+-------------------------+\n"
     ]
    }
   ],
   "source": [
    "print(prior_p)"
   ]
  },
  {
   "cell_type": "markdown",
   "id": "48124fa5",
   "metadata": {},
   "source": [
    "### Step 3.3: Infer Prior Probability of having computer failure with electricity failure as a prior evidence "
   ]
  },
  {
   "cell_type": "code",
   "execution_count": 12,
   "id": "924b1c1a",
   "metadata": {},
   "outputs": [
    {
     "data": {
      "application/vnd.jupyter.widget-view+json": {
       "model_id": "c26957f70cd6499caf119c859562f4b2",
       "version_major": 2,
       "version_minor": 0
      },
      "text/plain": [
       "0it [00:00, ?it/s]"
      ]
     },
     "metadata": {},
     "output_type": "display_data"
    },
    {
     "data": {
      "application/vnd.jupyter.widget-view+json": {
       "model_id": "6039217bf79048c08c5bf7aba18ee1e1",
       "version_major": 2,
       "version_minor": 0
      },
      "text/plain": [
       "0it [00:00, ?it/s]"
      ]
     },
     "metadata": {},
     "output_type": "display_data"
    }
   ],
   "source": [
    "prior_p = infer.query(['computer_failure'], evidence={'electricity_failure': 0, 'computer_malfunction': 1})"
   ]
  },
  {
   "cell_type": "markdown",
   "id": "c3afcee8",
   "metadata": {},
   "source": [
    "Show the prior probability results."
   ]
  },
  {
   "cell_type": "code",
   "execution_count": 13,
   "id": "1b3edc0f",
   "metadata": {},
   "outputs": [
    {
     "name": "stdout",
     "output_type": "stream",
     "text": [
      "+---------------------+-------------------------+\n",
      "| computer_failure    |   phi(computer_failure) |\n",
      "+=====================+=========================+\n",
      "| computer_failure(0) |                  1.0000 |\n",
      "+---------------------+-------------------------+\n",
      "| computer_failure(1) |                  0.0000 |\n",
      "+---------------------+-------------------------+\n"
     ]
    }
   ],
   "source": [
    "print(prior_p)"
   ]
  },
  {
   "cell_type": "code",
   "execution_count": null,
   "id": "3654c8f5",
   "metadata": {},
   "outputs": [],
   "source": []
  }
 ],
 "metadata": {
  "kernelspec": {
   "display_name": "Python 3 (ipykernel)",
   "language": "python",
   "name": "python3"
  },
  "language_info": {
   "codemirror_mode": {
    "name": "ipython",
    "version": 3
   },
   "file_extension": ".py",
   "mimetype": "text/x-python",
   "name": "python",
   "nbconvert_exporter": "python",
   "pygments_lexer": "ipython3",
   "version": "3.9.7"
  }
 },
 "nbformat": 4,
 "nbformat_minor": 5
}
