{
 "cells": [
  {
   "cell_type": "markdown",
   "id": "b8e5ed62",
   "metadata": {},
   "source": [
    "<div>\n",
    "<img src=\"https://drive.google.com/uc?export=view&id=1vK33e_EqaHgBHcbRV_m38hx6IkG0blK_\" width=\"350\"/>\n",
    "</div> \n",
    "\n",
    "\n",
    "## ET5003_CS6134  Machine Learning Applications\n",
    "## SEM1 2022/3\n",
    "\n",
    "### ET5003_CS6134 Etivity 1 - Data Preprocessing and Training a Machine Learning Model\n",
    "\n",
    "### Instructor: Emil Vassev\n",
    "Sept 13th, 2022\n",
    "<br><br>\n",
    "Copyright (C) 2022 - All rights reserved, do not copy or distribute without permission of the author.\n",
    "***"
   ]
  },
  {
   "cell_type": "markdown",
   "id": "6c2603d7",
   "metadata": {},
   "source": [
    "## Submission Info\n",
    "### Student Name: <span style=\"color:red\">TODO: add your name here</span>\n",
    "### Student Surname: <span style=\"color:red\">TODO: add your surname here</span>\n",
    "### Student ID: <span style=\"color:red\">TODO: add your student ID here</span>\n",
    "### Date of Final Submission: <span style=\"color:red\">TODO: put the date when you submitted for grading</span>\n",
    "***"
   ]
  },
  {
   "attachments": {},
   "cell_type": "markdown",
   "id": "a2b8d751",
   "metadata": {},
   "source": [
    "## Introduction\n",
    "Real-world datasets for ML are expected to be *incomplete*, *inconsistent*, and *noisy* due to their heterogeneous origin. Applying ML algorithms on such data would not give quality results as they would fail to identify patterns effectively.\n",
    "\n",
    "**Data Preprocessing** is a part of the ML process, which strives to improve the overall data quality by dealing with:\n",
    "* duplicate or missing values - such data may give an incorrect view of the overall statistics of data;\n",
    "* outliers and inconsistent data points - such data often tend to disturb the model’s overall learning and thus, leading to false predictions.\n",
    "\n",
    "Data Preprocessing targets ML features, which are:\n",
    "* individual independent variables operating as inputs to ML models;\n",
    "* representations or attributes that describe the data and help the models to predict the classes/labels.\n",
    "\n",
    "Example: features in a structured dataset (e.g., in a CSV format) refer to each column representing a measurable piece of data that can be used for analysis: name, age, sex, fare, etc.\n",
    "\n",
    "**Model Training** is a primary step in ML in which a ML algorithm is fed with sufficient training data to learn from. Model Training results in a working ML model that can then be validated, tested and deployed.\n",
    "\n",
    "## Task\n",
    "In this e-tivity, you are asked to follow the ML process to:\n",
    "* preprocess a provided dataset, so it will become suitable for ML operations;\n",
    "* select an appropriate ML model, so it will cope with the specifics of data and ML tasks;\n",
    "* train the selected ML model on the preprocessed dataset;\n",
    "* test the selected ML model on the preprocessed dataset. \n",
    "\n",
    "Please, consult the lectures of Weeks #1 and #2 for the specifics of the different ML models, the Data Preprocessing staeps and the specifics of Model Training and Testing.\n",
    "\n",
    "## The Dataset\n",
    "The provided dataset covers bond trading operations (buy and sell) on a financial market. The data is labeled and provided in its raw format, so it needs to be preprocessed.   "
   ]
  },
  {
   "cell_type": "code",
   "execution_count": null,
   "id": "bddb9532",
   "metadata": {},
   "outputs": [],
   "source": [
    "import pandas as pd\n",
    "\n",
    "url_dataset = \"\"\n",
    "df = pd.read_csv(url_dataset)"
   ]
  },
  {
   "cell_type": "markdown",
   "id": "903e119a",
   "metadata": {},
   "source": [
    "## Here are the steps you need to follow:"
   ]
  },
  {
   "cell_type": "markdown",
   "id": "a2788722",
   "metadata": {},
   "source": [
    "## Step 1: Determine the ML Model: Supervised or Unsupervised ML Model.  (5%)"
   ]
  },
  {
   "cell_type": "markdown",
   "id": "b7ad3798",
   "metadata": {},
   "source": [
    "<span style=\"color:red\">TODO: your rationale goes here</span>"
   ]
  },
  {
   "cell_type": "code",
   "execution_count": null,
   "id": "7edc61da",
   "metadata": {},
   "outputs": [],
   "source": []
  }
 ],
 "metadata": {
  "kernelspec": {
   "display_name": "Python 3 (ipykernel)",
   "language": "python",
   "name": "python3"
  },
  "language_info": {
   "codemirror_mode": {
    "name": "ipython",
    "version": 3
   },
   "file_extension": ".py",
   "mimetype": "text/x-python",
   "name": "python",
   "nbconvert_exporter": "python",
   "pygments_lexer": "ipython3",
   "version": "3.9.7"
  }
 },
 "nbformat": 4,
 "nbformat_minor": 5
}
